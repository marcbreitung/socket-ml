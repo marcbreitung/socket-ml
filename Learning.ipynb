{
 "cells": [
  {
   "cell_type": "code",
   "execution_count": 84,
   "metadata": {},
   "outputs": [],
   "source": [
    "%matplotlib inline\n",
    "\n",
    "import pandas as pd\n",
    "import matplotlib.pyplot as plt\n",
    "\n",
    "from sklearn.model_selection import StratifiedShuffleSplit\n",
    "from datetime import timedelta"
   ]
  },
  {
   "cell_type": "markdown",
   "metadata": {},
   "source": [
    "## Prepare data\n",
    "\n",
    "Divide the timestamp into two features **weekday** and **secondes** and transform the **action** in a numeric feature."
   ]
  },
  {
   "cell_type": "code",
   "execution_count": 85,
   "metadata": {},
   "outputs": [],
   "source": [
    "def get_time_in_seconds(time):\n",
    "    return int(timedelta(hours=time.hour, minutes=time.minute).total_seconds())\n",
    "\n",
    "def prepare_data(data):\n",
    "    df['action']= df['action'].apply(lambda x: 1 if x == 'on' else 0)\n",
    "    df['datetime'] = pd.to_datetime(df['timestamp'], unit='s', origin='unix')\n",
    "    df['weekday'] = df['datetime'].apply(lambda x: x.weekday())\n",
    "    df['time'] = df['datetime'].apply(lambda x: x.time())  \n",
    "    df['seconds'] = df['time'].apply(get_time_in_seconds)  \n",
    "    return df[['action', 'weekday', 'seconds']]"
   ]
  },
  {
   "cell_type": "markdown",
   "metadata": {},
   "source": [
    "## Read data into a DataFrame"
   ]
  },
  {
   "cell_type": "code",
   "execution_count": 86,
   "metadata": {},
   "outputs": [
    {
     "data": {
      "text/html": [
       "<div>\n",
       "<style scoped>\n",
       "    .dataframe tbody tr th:only-of-type {\n",
       "        vertical-align: middle;\n",
       "    }\n",
       "\n",
       "    .dataframe tbody tr th {\n",
       "        vertical-align: top;\n",
       "    }\n",
       "\n",
       "    .dataframe thead th {\n",
       "        text-align: right;\n",
       "    }\n",
       "</style>\n",
       "<table border=\"1\" class=\"dataframe\">\n",
       "  <thead>\n",
       "    <tr style=\"text-align: right;\">\n",
       "      <th></th>\n",
       "      <th>action</th>\n",
       "      <th>weekday</th>\n",
       "      <th>seconds</th>\n",
       "    </tr>\n",
       "    <tr>\n",
       "      <th>index</th>\n",
       "      <th></th>\n",
       "      <th></th>\n",
       "      <th></th>\n",
       "    </tr>\n",
       "  </thead>\n",
       "  <tbody>\n",
       "    <tr>\n",
       "      <th>0</th>\n",
       "      <td>1</td>\n",
       "      <td>0</td>\n",
       "      <td>26520</td>\n",
       "    </tr>\n",
       "    <tr>\n",
       "      <th>1</th>\n",
       "      <td>0</td>\n",
       "      <td>0</td>\n",
       "      <td>29160</td>\n",
       "    </tr>\n",
       "    <tr>\n",
       "      <th>2</th>\n",
       "      <td>1</td>\n",
       "      <td>0</td>\n",
       "      <td>61260</td>\n",
       "    </tr>\n",
       "    <tr>\n",
       "      <th>3</th>\n",
       "      <td>0</td>\n",
       "      <td>0</td>\n",
       "      <td>82740</td>\n",
       "    </tr>\n",
       "    <tr>\n",
       "      <th>4</th>\n",
       "      <td>1</td>\n",
       "      <td>1</td>\n",
       "      <td>26520</td>\n",
       "    </tr>\n",
       "  </tbody>\n",
       "</table>\n",
       "</div>"
      ],
      "text/plain": [
       "       action  weekday  seconds\n",
       "index                          \n",
       "0           1        0    26520\n",
       "1           0        0    29160\n",
       "2           1        0    61260\n",
       "3           0        0    82740\n",
       "4           1        1    26520"
      ]
     },
     "execution_count": 86,
     "metadata": {},
     "output_type": "execute_result"
    }
   ],
   "source": [
    "df = pd.read_csv('data/socket_log.csv', index_col='index')\n",
    "socket_log = prepare_data(df)\n",
    "socket_log.head()"
   ]
  },
  {
   "cell_type": "markdown",
   "metadata": {},
   "source": [
    "## Create test and training set"
   ]
  },
  {
   "cell_type": "code",
   "execution_count": 87,
   "metadata": {},
   "outputs": [],
   "source": [
    "split = StratifiedShuffleSplit(n_splits=1, test_size=0.2, random_state=42)\n",
    "\n",
    "for train_index, test_index in split.split(socket_log, socket_log['weekday']):\n",
    "    strat_train_set = socket_log.loc[train_index]\n",
    "    strat_test_set = socket_log.loc[test_index]"
   ]
  },
  {
   "cell_type": "markdown",
   "metadata": {},
   "source": [
    "## Extract labels from features"
   ]
  },
  {
   "cell_type": "code",
   "execution_count": 98,
   "metadata": {},
   "outputs": [
    {
     "data": {
      "text/plain": [
       "index\n",
       "4      1\n",
       "82     1\n",
       "60     1\n",
       "47     0\n",
       "38     1\n",
       "96     1\n",
       "52     1\n",
       "89     0\n",
       "5      0\n",
       "62     1\n",
       "76     1\n",
       "34     1\n",
       "91     0\n",
       "44     1\n",
       "87     0\n",
       "101    0\n",
       "37     0\n",
       "10     1\n",
       "46     1\n",
       "15     0\n",
       "67     0\n",
       "72     1\n",
       "54     1\n",
       "102    1\n",
       "2      1\n",
       "49     0\n",
       "40     1\n",
       "29     0\n",
       "39     0\n",
       "69     0\n",
       "      ..\n",
       "24     1\n",
       "84     1\n",
       "42     1\n",
       "18     1\n",
       "95     0\n",
       "66     1\n",
       "30     1\n",
       "31     0\n",
       "80     1\n",
       "57     0\n",
       "93     0\n",
       "33     0\n",
       "88     1\n",
       "28     1\n",
       "36     1\n",
       "92     1\n",
       "35     0\n",
       "74     1\n",
       "1      0\n",
       "77     0\n",
       "32     1\n",
       "97     0\n",
       "58     1\n",
       "23     0\n",
       "8      1\n",
       "22     1\n",
       "51     0\n",
       "16     1\n",
       "73     0\n",
       "75     0\n",
       "Name: action, Length: 83, dtype: int64"
      ]
     },
     "execution_count": 98,
     "metadata": {},
     "output_type": "execute_result"
    }
   ],
   "source": [
    "X = strat_train_set.drop('action', axis=1)\n",
    "y = strat_train_set['action'].copy()"
   ]
  },
  {
   "cell_type": "markdown",
   "metadata": {},
   "source": [
    "## Train data with DecisionTreeClassifier"
   ]
  },
  {
   "cell_type": "code",
   "execution_count": 110,
   "metadata": {},
   "outputs": [
    {
     "data": {
      "text/plain": [
       "array([ 1,  1,  1, -2, -2, -2, -2])"
      ]
     },
     "execution_count": 110,
     "metadata": {},
     "output_type": "execute_result"
    }
   ],
   "source": [
    "from sklearn.tree import DecisionTreeClassifier\n",
    "\n",
    "socket_clf = DecisionTreeClassifier(min_samples_split=10, min_samples_leaf=10)\n",
    "socket_clf.fit(X, y)\n",
    "\n",
    "socket_clf.predict([[3, 29160]])\n",
    "socket_clf.tree_.feature"
   ]
  },
  {
   "cell_type": "code",
   "execution_count": 111,
   "metadata": {},
   "outputs": [],
   "source": [
    "from sklearn.tree import export_graphviz\n",
    "\n",
    "export_graphviz(\n",
    "    decision_tree=socket_clf,\n",
    "    out_file='socket_tree.dot',\n",
    "    feature_names=['weekday', 'seconds'],\n",
    "    class_names=True,\n",
    "    rounded=True,\n",
    "    filled=True\n",
    ")"
   ]
  },
  {
   "cell_type": "code",
   "execution_count": 103,
   "metadata": {},
   "outputs": [
    {
     "data": {
      "text/plain": [
       "array([ 0.77777778,  0.58823529,  0.6875    ,  0.75      ,  0.75      ])"
      ]
     },
     "execution_count": 103,
     "metadata": {},
     "output_type": "execute_result"
    }
   ],
   "source": [
    "from sklearn.model_selection import cross_val_score\n",
    "\n",
    "cross_val_score(socket_clf, X, y, cv=5, scoring='accuracy')"
   ]
  },
  {
   "cell_type": "code",
   "execution_count": 96,
   "metadata": {},
   "outputs": [
    {
     "data": {
      "text/plain": [
       "array([[23, 18],\n",
       "       [ 0, 42]])"
      ]
     },
     "execution_count": 96,
     "metadata": {},
     "output_type": "execute_result"
    }
   ],
   "source": [
    "from sklearn.metrics import confusion_matrix\n",
    "from sklearn.model_selection import cross_val_predict\n",
    "\n",
    "y_train_pred = cross_val_predict(socket_clf, X, y, cv=3)\n",
    "\n",
    "confusion_matrix(y, y_train_pred)"
   ]
  }
 ],
 "metadata": {
  "kernelspec": {
   "display_name": "Python 3",
   "language": "python",
   "name": "python3"
  },
  "language_info": {
   "codemirror_mode": {
    "name": "ipython",
    "version": 3
   },
   "file_extension": ".py",
   "mimetype": "text/x-python",
   "name": "python",
   "nbconvert_exporter": "python",
   "pygments_lexer": "ipython3",
   "version": "3.6.3"
  }
 },
 "nbformat": 4,
 "nbformat_minor": 2
}
