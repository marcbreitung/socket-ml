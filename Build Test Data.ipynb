{
 "cells": [
  {
   "cell_type": "markdown",
   "metadata": {},
   "source": [
    "# Build some test data with DailyRoutineData"
   ]
  },
  {
   "cell_type": "code",
   "execution_count": 31,
   "metadata": {},
   "outputs": [],
   "source": [
    "from datetime import timedelta\n",
    "from random import randrange\n",
    "\n",
    "from utils.daily_routine_data import DailyRoutineData\n",
    "from utils.daily_routine_event import DailyRoutineEvent"
   ]
  },
  {
   "cell_type": "code",
   "execution_count": 32,
   "metadata": {},
   "outputs": [],
   "source": [
    "data = DailyRoutineData(period=30, start='2018-01-01')\n",
    "\n",
    "data.add_daily_routine_event(DailyRoutineEvent(\n",
    "    'wake up', \n",
    "    'on', \n",
    "    timedelta(hours=7, minutes=30 + randrange(-10, 10)), \n",
    "    timedelta(hours=9, minutes=30 + randrange(-10, 10))))\n",
    "\n",
    "data.add_daily_routine_event(DailyRoutineEvent(\n",
    "    'leave home', \n",
    "    'off', \n",
    "    timedelta(hours=8, minutes=randrange(-10, 10)), \n",
    "    None))\n",
    "\n",
    "data.add_daily_routine_event(DailyRoutineEvent(\n",
    "    'come home', \n",
    "    'on', \n",
    "    timedelta(hours=17, minutes=randrange(-30, 30)), \n",
    "    None))\n",
    "\n",
    "data.add_daily_routine_event(DailyRoutineEvent(\n",
    "    'go to bed', \n",
    "    'off', \n",
    "    timedelta(hours=22, minutes=randrange(-60, 60)), \n",
    "    timedelta(hours=24, minutes=randrange(-30, 30))))"
   ]
  },
  {
   "cell_type": "markdown",
   "metadata": {},
   "source": [
    "## Save the test data as a csv file"
   ]
  },
  {
   "cell_type": "code",
   "execution_count": 33,
   "metadata": {},
   "outputs": [],
   "source": [
    "import pandas as pd\n",
    "\n",
    "df = pd.DataFrame(data.get_data())\n",
    "df_data = df[['action','timestamp']]\n",
    "df_data.to_csv('data/socket_log.csv', index=True, index_label='index')"
   ]
  }
 ],
 "metadata": {
  "kernelspec": {
   "display_name": "Python 3",
   "language": "python",
   "name": "python3"
  },
  "language_info": {
   "codemirror_mode": {
    "name": "ipython",
    "version": 3
   },
   "file_extension": ".py",
   "mimetype": "text/x-python",
   "name": "python",
   "nbconvert_exporter": "python",
   "pygments_lexer": "ipython3",
   "version": "3.6.3"
  }
 },
 "nbformat": 4,
 "nbformat_minor": 2
}
